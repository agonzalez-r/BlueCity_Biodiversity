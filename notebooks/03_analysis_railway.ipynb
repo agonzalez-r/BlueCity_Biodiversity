{
 "cells": [
  {
   "metadata": {},
   "cell_type": "markdown",
   "source": "# Get and clean the mobility network data",
   "id": "5488465f7989e947"
  },
  {
   "metadata": {},
   "cell_type": "markdown",
   "source": "## OpenSwissData road network:",
   "id": "840a37ec48bd0719"
  },
  {
   "metadata": {
    "collapsed": true
   },
   "cell_type": "code",
   "source": [
    "import geopandas as gpd\n",
    "\n",
    "roads = gpd.read_file(\"../data/road_networks/swisstlm3d_roads_2025.gpkg\")"
   ],
   "id": "initial_id",
   "outputs": [],
   "execution_count": null
  },
  {
   "metadata": {},
   "cell_type": "markdown",
   "source": "#### Crop the roads to Vaud:",
   "id": "36f5f65eefbcb300"
  },
  {
   "metadata": {},
   "cell_type": "code",
   "source": [
    "import osmnx as ox\n",
    "from geopandas import overlay\n",
    "\n",
    "place = \"Vaud, Switzerland\"\n",
    "bound = ox.geocode_to_gdf(place)\n",
    "\n",
    "target_crs = \"EPSG:2056\" # roads_gdf crs\n",
    "bound = bound.to_crs(target_crs)\n",
    "\n",
    "roads = overlay(roads, bound, how='intersection')"
   ],
   "id": "292d7772d5f50af8",
   "outputs": [],
   "execution_count": null
  },
  {
   "metadata": {},
   "cell_type": "code",
   "source": "print(roads.columns)",
   "id": "bcaecc0dd6defcc",
   "outputs": [],
   "execution_count": null
  },
  {
   "metadata": {},
   "cell_type": "code",
   "source": [
    "print(\"The types of roads available in this dataset are:\")\n",
    "print(roads[\"object_type\"].unique())\n",
    "\n",
    "print(\"\\n There are also hierarchy levels for the roads:\")\n",
    "print(roads[\"hierarchy_level\"].unique())"
   ],
   "id": "d648979de296ba84",
   "outputs": [],
   "execution_count": null
  },
  {
   "metadata": {},
   "cell_type": "markdown",
   "source": [
    "#### Filter for main roads:\n",
    "from the list of type of roads, selct the ones to keep in teh network."
   ],
   "id": "11b7aa54043fb8a"
  },
  {
   "metadata": {},
   "cell_type": "code",
   "source": [
    "main_roads = [\n",
    "    'Autobahn',\n",
    "    # 'Autostrasse',\n",
    "    # 'Ausfahrt',\n",
    "    # 'Einfahrt',\n",
    "    # 'Zufahrt'\n",
    "]\n",
    "roads_clean = roads[roads[\"object_type\"].isin(main_roads)].copy()\n"
   ],
   "id": "aecd88f87723c7cd",
   "outputs": [],
   "execution_count": null
  },
  {
   "metadata": {},
   "cell_type": "code",
   "source": "print(roads_clean[\"display_name\"].unique())",
   "id": "55aa6da90fa85891",
   "outputs": [],
   "execution_count": null
  },
  {
   "metadata": {},
   "cell_type": "code",
   "source": "print(roads_clean[\"hierarchy_level\"].unique())",
   "id": "d99e49006a8accf",
   "outputs": [],
   "execution_count": null
  },
  {
   "metadata": {},
   "cell_type": "markdown",
   "source": "## OSMNX road network:\n",
   "id": "700aeb4da0264012"
  },
  {
   "metadata": {},
   "cell_type": "code",
   "source": [
    "place = \"Vaud, Switzerland\"\n",
    "G = ox.graph_from_place(place, network_type=\"drive\")\n",
    "roads_ox = ox.graph_to_gdfs(G, nodes=False, edges=True).reset_index()\n",
    "roads_ox = roads_ox.to_crs(epsg=2056)"
   ],
   "id": "e1afb5ae3d08fca5",
   "outputs": [],
   "execution_count": null
  },
  {
   "metadata": {},
   "cell_type": "code",
   "source": "print(roads_ox.columns)",
   "id": "d888f5c9fef5116e",
   "outputs": [],
   "execution_count": null
  },
  {
   "metadata": {},
   "cell_type": "code",
   "source": [
    "import itertools\n",
    "unique_highways = set(itertools.chain.from_iterable(roads_ox[\"highway\"]))\n",
    "print(unique_highways)"
   ],
   "id": "94945738486c14c9",
   "outputs": [],
   "execution_count": null
  },
  {
   "metadata": {},
   "cell_type": "code",
   "source": [
    "roads_ox_clean = roads_ox[roads_ox[\"highway\"].isin(\n",
    "    [\"motorway\"]\n",
    ")].copy()"
   ],
   "id": "8d59092cd1d71653",
   "outputs": [],
   "execution_count": null
  },
  {
   "metadata": {},
   "cell_type": "code",
   "source": [
    "print(roads_ox_clean[\"ref\"].unique())\n",
    "a9 = roads_ox[(roads_ox[\"ref\"] == \"A9\")|(roads_ox[\"ref\"] == \"A1;A9\")].copy()\n",
    "print(a9.head())"
   ],
   "id": "b60be290c16c49b9",
   "outputs": [],
   "execution_count": null
  },
  {
   "metadata": {},
   "cell_type": "markdown",
   "source": "#### Visualize the selected roads:",
   "id": "98995f5e74a2056b"
  },
  {
   "metadata": {},
   "cell_type": "code",
   "source": [
    "import matplotlib.pyplot as plt\n",
    "\n",
    "fig, ax = plt.subplots(figsize=(30, 30))\n",
    "# roads_clean.plot(ax=ax, color='blue')\n",
    "# roads_ox_clean.plot(ax=ax, color='blue')\n",
    "a9.plot(ax=ax, color='blue')\n",
    "ax.axis('off')\n"
   ],
   "id": "dd35b6c4e7ae1364",
   "outputs": [],
   "execution_count": null
  },
  {
   "metadata": {},
   "cell_type": "markdown",
   "source": "#### Save the cleaned roads to a GeoPackage file for further use in the buffers generation notebook:",
   "id": "57fa639469789cc3"
  },
  {
   "metadata": {},
   "cell_type": "code",
   "source": "# roads_clean.to_file(\"road_networks/vaud_main_roads.gpkg\", driver=\"GPKG\")",
   "id": "572deaac7bd8c490",
   "outputs": [],
   "execution_count": null
  },
  {
   "metadata": {},
   "cell_type": "markdown",
   "source": "## Rail network data",
   "id": "d316ac4d9fc08578"
  },
  {
   "metadata": {},
   "cell_type": "code",
   "source": [
    "import osmnx as ox\n",
    "\n",
    "place = \"Vaud, Switzerland\"\n",
    "rail_tags = {'railway': ['rail']} ## + rail?\n",
    "subway_tags = {'railway': [ 'subway', 'tram']}\n",
    "railway = ox.features.features_from_place(place, tags=rail_tags)\n",
    "# subway = ox.features.features_from_place(place, tags=subway_tags)\n",
    "\n",
    "print(railway.columns)\n",
    "# print(subway.columns)"
   ],
   "id": "b21f402be3496099",
   "outputs": [],
   "execution_count": null
  },
  {
   "metadata": {},
   "cell_type": "code",
   "source": "print(railway['ref'].unique())",
   "id": "91ec3b2a148759ca",
   "outputs": [],
   "execution_count": null
  },
  {
   "metadata": {},
   "cell_type": "code",
   "source": [
    "import matplotlib.pyplot as plt\n",
    "import matplotlib.cm as cm\n",
    "\n",
    "# Get unique refs, ignoring NaN for coloring\n",
    "unique_refs = railway['ref'].dropna().unique()\n",
    "n_refs = len(unique_refs)\n",
    "colors = cm.get_cmap('tab20', n_refs)  # or 'tab10', 'hsv', etc.\n",
    "\n",
    "fig, ax = plt.subplots(figsize=(12, 8))\n",
    "\n",
    "for i, ref in enumerate(unique_refs):\n",
    "    # if ref == '200' or ref == '100' or ref == '150':\n",
    "        sub = railway[railway['ref'] == ref]\n",
    "        sub.plot(ax=ax, color=colors(i), label=str(ref), linewidth=3)\n",
    "\n",
    "plt.legend(title=\"ref\", bbox_to_anchor=(1.05, 1), loc='upper left')\n",
    "plt.title(f\"Railway lines in {place} by 'ref'\")\n",
    "plt.tight_layout()\n",
    "plt.show()"
   ],
   "id": "af4191531594bbdf",
   "outputs": [],
   "execution_count": null
  },
  {
   "metadata": {},
   "cell_type": "markdown",
   "source": [
    "We will select only the railway lines with ref '100' and '150' for further analysis, as these are lines parallel to the A9 motorway:\n",
    "- in Lausanne : 100, 150\n",
    "- in Vaud : 100, 150, 200"
   ],
   "id": "5b0a4ccf78b73c88"
  },
  {
   "metadata": {},
   "cell_type": "code",
   "source": [
    "railway = railway[railway['ref'].isin(['100', '150'])].copy()\n",
    "railway = railway.to_crs(epsg=2056)  # Convert to Swiss coordinate system\n",
    "railway.to_file(f\"../data/railway_networks/Vaud_rail_100_150_200.gpkg\", driver=\"GPKG\")"
   ],
   "id": "4671910bcf88d66c",
   "outputs": [],
   "execution_count": null
  },
  {
   "metadata": {},
   "cell_type": "code",
   "source": "print(railway['maxspeed'].unique())",
   "id": "5f61dcde9494ca46",
   "outputs": [],
   "execution_count": null
  },
  {
   "metadata": {},
   "cell_type": "code",
   "source": "print(railway['tracks'].unique())",
   "id": "3bc0072dd248fca",
   "outputs": [],
   "execution_count": null
  },
  {
   "metadata": {},
   "cell_type": "code",
   "source": "print(railway.crs)",
   "id": "829d563be6bb5e12",
   "outputs": [],
   "execution_count": null
  },
  {
   "metadata": {},
   "cell_type": "markdown",
   "source": "## Correct the habitat data",
   "id": "20ff3522912fa99"
  },
  {
   "metadata": {},
   "cell_type": "code",
   "source": [
    "import pandas as pd\n",
    "habitat_distr = pd.read_csv(\"../data/habitats/habitats_in_A9_buffers.csv\")\n",
    "\n",
    "# Correct '4.0.0.0.3' to '4.0.3' in TypoCH column\n",
    "habitat_distr['TypoCH'] = habitat_distr['TypoCH'].replace('4.0.0.0.3', '4.0.3')\n",
    "\n",
    "# Save the corrected DataFrame back to a CSV file\n",
    "habitat_distr.to_csv(\"../data/habitats/habitats_in_A9_buffers.csv\", index=False)"
   ],
   "id": "b5519d74072e7138",
   "outputs": [],
   "execution_count": null
  },
  {
   "metadata": {},
   "cell_type": "code",
   "source": [
    "typoch_names = pd.read_csv(\"../data/habitats/typoCH_names.csv\")\n",
    "\n",
    "def normalize_typo(typo):\n",
    "    # Remove any '-'\n",
    "    # Remove any stray spaces\n",
    "    typo = str(typo).replace('-','')\n",
    "    typo = typo.strip()\n",
    "    return typo\n",
    "\n",
    "typoch_names['normalized_typo'] = typoch_names['Typo'].apply(normalize_typo)\n",
    "\n",
    "# Save the updated typoCH names\n",
    "typoch_names.to_csv(\"../data/habitats/typoCH_names.csv\", index=False)"
   ],
   "id": "e07ed3a05436bdd0",
   "outputs": [],
   "execution_count": null
  },
  {
   "metadata": {},
   "cell_type": "code",
   "source": [
    "import pandas as pd\n",
    "habitats_rail = pd.read_csv(\"../data/habitats/habitats_in_vaud_railway_buffers.csv\")"
   ],
   "id": "65f4c91181466e5",
   "outputs": [],
   "execution_count": null
  },
  {
   "metadata": {},
   "cell_type": "code",
   "source": "print(habitats_rail.head())",
   "id": "c3e8bb5b61a0a1b4",
   "outputs": [],
   "execution_count": null
  },
  {
   "metadata": {},
   "cell_type": "code",
   "source": "print(habitats_rail['habitat_area'].unique())",
   "id": "38a7c0088d257f30",
   "outputs": [],
   "execution_count": null
  },
  {
   "metadata": {},
   "cell_type": "code",
   "source": "print(min(habitats_rail['buffer_id'].unique()))",
   "id": "90e2b9988c952b5e",
   "outputs": [],
   "execution_count": null
  },
  {
   "metadata": {},
   "cell_type": "code",
   "source": "",
   "id": "7edc1b2728a169f1",
   "outputs": [],
   "execution_count": null
  }
 ],
 "metadata": {
  "kernelspec": {
   "display_name": "Python 3",
   "language": "python",
   "name": "python3"
  },
  "language_info": {
   "codemirror_mode": {
    "name": "ipython",
    "version": 2
   },
   "file_extension": ".py",
   "mimetype": "text/x-python",
   "name": "python",
   "nbconvert_exporter": "python",
   "pygments_lexer": "ipython2",
   "version": "2.7.6"
  }
 },
 "nbformat": 4,
 "nbformat_minor": 5
}
