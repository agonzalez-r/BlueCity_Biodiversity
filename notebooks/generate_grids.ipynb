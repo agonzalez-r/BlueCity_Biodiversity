{
 "cells": [
  {
   "metadata": {
    "ExecuteTime": {
     "end_time": "2025-05-26T13:46:52.074721Z",
     "start_time": "2025-05-26T13:46:50.945032Z"
    }
   },
   "cell_type": "code",
   "source": [
    "from buffers_generation import make_road_buffers\n",
    "from buffers_visualization import visualize_buffers"
   ],
   "id": "edd9779384ece3bc",
   "outputs": [],
   "execution_count": 1
  },
  {
   "metadata": {},
   "cell_type": "markdown",
   "source": [
    "## 1. Import Road Data\n",
    "Two options:\n",
    " - from the `data` folder read the file corresponding to the desired road network on which to build the buffers.\n",
    "- fetch road network from OpenStreetMap using OSMnx."
   ],
   "id": "96b7ed33cf557fca"
  },
  {
   "metadata": {
    "collapsed": true,
    "ExecuteTime": {
     "end_time": "2025-05-26T13:50:31.899716Z",
     "start_time": "2025-05-26T13:46:52.083384Z"
    }
   },
   "cell_type": "code",
   "source": [
    "import osmnx as ox\n",
    "import geopandas as gpd\n",
    "\n",
    "# roads_gdf = gpd.read_file(\"../data/vaud_main_roads.gpkg\")\n",
    "\n",
    "# Load and project road network\n",
    "place = \"Vaud, Switzerland\"\n",
    "G = ox.graph_from_place(place, network_type=\"drive\")\n",
    "roads_gdf = ox.graph_to_gdfs(G, nodes=False, edges=True).reset_index()\n",
    "roads_gdf = roads_gdf.to_crs(epsg=2056)\n",
    "\n",
    "# print(roads_gdf.columns)"
   ],
   "id": "initial_id",
   "outputs": [],
   "execution_count": 2
  },
  {
   "metadata": {
    "ExecuteTime": {
     "end_time": "2025-05-26T13:50:32.372358Z",
     "start_time": "2025-05-26T13:50:32.349887Z"
    }
   },
   "cell_type": "code",
   "source": [
    "# Filter to main roads\n",
    "# import itertools\n",
    "# unique_highways = set(itertools.chain.from_iterable(roads_gdf[\"highway\"]))\n",
    "# print(unique_highways)\n",
    "\n",
    "main_roads_gdf = roads_gdf[roads_gdf[\"highway\"].isin(\n",
    "    [\"motorway\", \"trunk\", \"primary\", \"secondary\"]\n",
    ")].copy()"
   ],
   "id": "7791572b57671240",
   "outputs": [],
   "execution_count": 3
  },
  {
   "metadata": {},
   "cell_type": "markdown",
   "source": "## 2. Generate Circular Buffers around Roads\n",
   "id": "4898ff0533fe7a5e"
  },
  {
   "metadata": {
    "ExecuteTime": {
     "end_time": "2025-05-26T13:50:42.547260Z",
     "start_time": "2025-05-26T13:50:42.540293Z"
    }
   },
   "cell_type": "code",
   "source": [
    "RADIUS = 250\n",
    "STEP = 500"
   ],
   "id": "a20c50dc28dc8918",
   "outputs": [],
   "execution_count": 4
  },
  {
   "metadata": {
    "ExecuteTime": {
     "end_time": "2025-05-26T13:52:00.827284Z",
     "start_time": "2025-05-26T13:51:57.692410Z"
    }
   },
   "cell_type": "code",
   "source": "buffers_gdf = make_road_buffers(main_roads_gdf, radius=RADIUS, step=STEP, tol=200, save=True)",
   "id": "4447c39e99580cf0",
   "outputs": [
    {
     "name": "stdout",
     "output_type": "stream",
     "text": [
      "Saved buffers to road_buffers_250_500_200.geojson\n"
     ]
    }
   ],
   "execution_count": 7
  },
  {
   "metadata": {
    "ExecuteTime": {
     "end_time": "2025-05-26T13:52:06.353020Z",
     "start_time": "2025-05-26T13:52:02.532069Z"
    }
   },
   "cell_type": "code",
   "source": "visualize_buffers(buffers_gdf, html_filename=f\"buffer_viz_{RADIUS}_{STEP}.html\")",
   "id": "8a578db9fc7b2fae",
   "outputs": [],
   "execution_count": 8
  },
  {
   "metadata": {
    "ExecuteTime": {
     "end_time": "2025-05-26T13:51:03.695151Z",
     "start_time": "2025-05-26T13:51:03.690720Z"
    }
   },
   "cell_type": "code",
   "source": "",
   "id": "7f8e2385598ce266",
   "outputs": [],
   "execution_count": null
  }
 ],
 "metadata": {
  "kernelspec": {
   "display_name": "Python 3",
   "language": "python",
   "name": "python3"
  },
  "language_info": {
   "codemirror_mode": {
    "name": "ipython",
    "version": 2
   },
   "file_extension": ".py",
   "mimetype": "text/x-python",
   "name": "python",
   "nbconvert_exporter": "python",
   "pygments_lexer": "ipython2",
   "version": "2.7.6"
  }
 },
 "nbformat": 4,
 "nbformat_minor": 5
}
