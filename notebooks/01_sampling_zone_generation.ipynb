{
 "cells": [
  {
   "metadata": {},
   "cell_type": "code",
   "source": [
    "# Determine the type of network to use\n",
    "NETWORK_TYPE = \"railway\"  # \"road\" or \"railway\" for rail networks"
   ],
   "id": "edd9779384ece3bc",
   "outputs": [],
   "execution_count": null
  },
  {
   "metadata": {},
   "cell_type": "markdown",
   "source": [
    "## 1. Import Road Data\n",
    "Two options:\n",
    " - from the `data` folder read the file corresponding to the desired road network on which to build the buffers.\n",
    "- fetch road or rail network data (from OpenStreetMap)"
   ],
   "id": "96b7ed33cf557fca"
  },
  {
   "metadata": {
    "collapsed": true
   },
   "cell_type": "code",
   "source": [
    "import geopandas as gpd\n",
    "roads_gdf = gpd.read_file(\"../data/road_networks/A9.gpkg\")\n",
    "rail_gdf = gpd.read_file(\"../data/railway_networks/Lausanne_rail_100_150.gpkg\")"
   ],
   "id": "initial_id",
   "outputs": [],
   "execution_count": null
  },
  {
   "metadata": {},
   "cell_type": "markdown",
   "source": [
    "## 2. Generate Circular Sampling Zones around the Network\n",
    "Generates a geodataframe of buffers around the road or rail network, and creates an HTML file to visualize the buffers.\n"
   ],
   "id": "4898ff0533fe7a5e"
  },
  {
   "metadata": {},
   "cell_type": "code",
   "source": [
    "RADIUS = 150\n",
    "STEP = 300\n",
    "TOL = 150  # tolerance for the buffer simplification\n",
    "name = \"vaud_railway\"  # name of the network, used for saving files"
   ],
   "id": "a20c50dc28dc8918",
   "outputs": [],
   "execution_count": null
  },
  {
   "metadata": {},
   "cell_type": "code",
   "source": [
    "from src.buffers.buffers_generation import make_buffers\n",
    "\n",
    "buffers_gdf = make_buffers(rail_gdf, name=name, step=STEP, radius=RADIUS, tol=TOL)"
   ],
   "id": "4447c39e99580cf0",
   "outputs": [],
   "execution_count": null
  },
  {
   "metadata": {},
   "cell_type": "code",
   "source": [
    "from src.buffers.buffers_visualization import visualize_buffers\n",
    "\n",
    "visualize_buffers(buffers_gdf, html_filename=f\"{name}_buffer_{RADIUS}_{STEP}.html\")"
   ],
   "id": "8a578db9fc7b2fae",
   "outputs": [],
   "execution_count": null
  },
  {
   "metadata": {},
   "cell_type": "markdown",
   "source": [
    "## 3. Add Data to Sampling Zones\n",
    "\n",
    "### Habitats Data\n",
    "Gets the habitat data and computes the intersection with each buffer, which includes the area of each habitat type within the buffer and the percentage of the buffer area that is covered by that habitat type.\n",
    "**This computation can take a while (around 30 mins).**"
   ],
   "id": "603821a00d0d10c9"
  },
  {
   "metadata": {},
   "cell_type": "code",
   "source": [
    "from src.buffers.assign_data_to_buffers import assign_habitats_to_buffers\n",
    "\n",
    "habitats_gdf = gpd.read_file(\"../data/habitats/habitat_map_vaud.gpkg\")"
   ],
   "id": "b75f785a4a06a79c",
   "outputs": [],
   "execution_count": null
  },
  {
   "metadata": {},
   "cell_type": "code",
   "source": [
    "target_crs = 2056\n",
    "habitats_gdf = habitats_gdf.to_crs(target_crs)\n",
    "buffers_gdf = buffers_gdf.to_crs(target_crs)"
   ],
   "id": "73a09701bbaff564",
   "outputs": [],
   "execution_count": null
  },
  {
   "metadata": {},
   "cell_type": "code",
   "source": "habitats_in_buf_df = assign_habitats_to_buffers(habitats_gdf, buffers_gdf)",
   "id": "6d09bb09e9bd037d",
   "outputs": [],
   "execution_count": null
  },
  {
   "metadata": {},
   "cell_type": "code",
   "source": [
    "# Add columns for buffer IDs\n",
    "buffers_gdf = buffers_gdf.reset_index(drop=True)\n",
    "buffers_gdf['buffer_id'] = buffers_gdf.index + 1"
   ],
   "id": "72056be010220fe8",
   "outputs": [],
   "execution_count": null
  },
  {
   "metadata": {},
   "cell_type": "code",
   "source": [
    "# Save files\n",
    "buffers_gdf.to_file(f\"../data/buffers/{name}_buffers_{RADIUS}_{STEP}_{TOL}.geojson\", driver=\"GeoJSON\")\n",
    "habitats_in_buf_df.to_csv(f\"../data/habitats/habitats_in_{name}_buffers.csv\", index=False)"
   ],
   "id": "576d0a791fae0a33",
   "outputs": [],
   "execution_count": null
  },
  {
   "metadata": {},
   "cell_type": "markdown",
   "source": "### For Roads:",
   "id": "ff00fd8fe32d79ae"
  },
  {
   "metadata": {},
   "cell_type": "code",
   "source": [
    "from src.buffers.assign_data_to_buffers import assign_road_data_to_buffers\n",
    "\n",
    "if NETWORK_TYPE == \"road\":\n",
    "    roads_df = assign_road_data_to_buffers(roads_gdf, buffers_gdf)\n",
    "    # Save the road data to a CSV file\n",
    "    # roads_df.to_csv(f\"../data/road_networks/road_data_in_{name}_buffers.csv\", index=False)\n",
    "    print(roads_df.columns)"
   ],
   "id": "28af124b49157e17",
   "outputs": [],
   "execution_count": null
  },
  {
   "metadata": {},
   "cell_type": "markdown",
   "source": "### For Railway:",
   "id": "24af6e1459898516"
  },
  {
   "metadata": {},
   "cell_type": "code",
   "source": [
    "from src.buffers.assign_data_to_buffers import assign_rail_data_to_buffers\n",
    "\n",
    "if NETWORK_TYPE == \"railway\":\n",
    "    rail_df = assign_rail_data_to_buffers(rail_gdf, buffers_gdf)\n",
    "    # Save the rail data to a CSV file\n",
    "    rail_df.to_csv(f\"../data/railway_networks/rail_data_in_{name}_buffers.csv\", index=False)"
   ],
   "id": "68e8fba44ea182de",
   "outputs": [],
   "execution_count": null
  },
  {
   "metadata": {},
   "cell_type": "code",
   "source": "print(habitats_in_buf_df.info)",
   "id": "2d83b7346a4ead5a",
   "outputs": [],
   "execution_count": null
  },
  {
   "metadata": {},
   "cell_type": "code",
   "source": "",
   "id": "8dfba01227267b45",
   "outputs": [],
   "execution_count": null
  }
 ],
 "metadata": {
  "kernelspec": {
   "display_name": "Python 3",
   "language": "python",
   "name": "python3"
  },
  "language_info": {
   "codemirror_mode": {
    "name": "ipython",
    "version": 2
   },
   "file_extension": ".py",
   "mimetype": "text/x-python",
   "name": "python",
   "nbconvert_exporter": "python",
   "pygments_lexer": "ipython2",
   "version": "2.7.6"
  }
 },
 "nbformat": 4,
 "nbformat_minor": 5
}
